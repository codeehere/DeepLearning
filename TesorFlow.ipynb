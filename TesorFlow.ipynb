{
  "nbformat": 4,
  "nbformat_minor": 0,
  "metadata": {
    "colab": {
      "provenance": [],
      "authorship_tag": "ABX9TyMyo//a6+dGCpsyA0NU9lUM",
      "include_colab_link": true
    },
    "kernelspec": {
      "name": "python3",
      "display_name": "Python 3"
    },
    "language_info": {
      "name": "python"
    }
  },
  "cells": [
    {
      "cell_type": "markdown",
      "metadata": {
        "id": "view-in-github",
        "colab_type": "text"
      },
      "source": [
        "<a href=\"https://colab.research.google.com/github/codeehere/DeepLearning/blob/main/TesorFlow.ipynb\" target=\"_parent\"><img src=\"https://colab.research.google.com/assets/colab-badge.svg\" alt=\"Open In Colab\"/></a>"
      ]
    },
    {
      "cell_type": "markdown",
      "source": [
        "# DeepLearning with TensorFlow"
      ],
      "metadata": {
        "id": "E5ZjIc_6IZ6m"
      }
    },
    {
      "cell_type": "markdown",
      "source": [
        "**Tensor:** It is just a general name for data stored in multiple dimensions\n",
        "\n"
      ],
      "metadata": {
        "id": "goV-_9drKFRT"
      }
    },
    {
      "cell_type": "markdown",
      "source": [
        "**Neuron:** Is the smallest unit of Neural Network that obay a basic equation **\" Activation( w1x1 + w2x2 + w3x3 - b )  \"**"
      ],
      "metadata": {
        "id": "slkb8EqxKv3a"
      }
    },
    {
      "cell_type": "code",
      "source": [
        "import tensorflow as tf\n",
        "import torch as th\n",
        "\n",
        "Dim1_const_data = tf.constant([1,2,3,4])\n",
        "print(Dim1_const_data.ndim)\n",
        "\n",
        "\n",
        "Dim2_const_data = tf.constant([\n",
        "    [1,2,3],\n",
        "    [3,2,1],\n",
        "    [4,5,6]\n",
        "])\n",
        "print(Dim2_const_data.ndim)\n",
        "\n",
        "\n",
        "Dim3_const_data = tf.constant([\n",
        "    [[1,2,3]],\n",
        "     [[3,2,1]],\n",
        "      [[4,5,6]]\n",
        "])\n",
        "print(Dim3_const_data.ndim)"
      ],
      "metadata": {
        "colab": {
          "base_uri": "https://localhost:8080/"
        },
        "id": "r08IEO8MI9u8",
        "outputId": "8fcf504d-62a2-4252-fe50-89d09e9a51b3"
      },
      "execution_count": 29,
      "outputs": [
        {
          "output_type": "stream",
          "name": "stdout",
          "text": [
            "1\n",
            "2\n",
            "3\n"
          ]
        }
      ]
    },
    {
      "cell_type": "code",
      "source": [
        "# TensorFlow veriable\n",
        "\n",
        "Dim1_var_data = tf.Variable([1,2,3,4])\n",
        "Dim1_var_data.shape\n",
        "\n",
        "# Assign at TensorFlow\n",
        "\n",
        "Constant_data = tf.constant([\n",
        "    [1,2,3],\n",
        "    [1,2,3],\n",
        "    [1,2,3]\n",
        "])\n",
        "Variable_data = tf.Variable([\n",
        "    [1,2,3],\n",
        "    [1,2,3],\n",
        "    [1,2,3]\n",
        "],dtype=tf.float16)\n",
        "\n",
        "print(Constant_data)\n",
        "print(Variable_data)\n",
        "\n",
        "# Assign a value in a Variable Tensor\n",
        "Variable_data[2,1].assign(10)\n",
        "Variable_data\n",
        "\n",
        "\n",
        "# Assign a value forcefully at a constant Tensor is not possibel\n",
        "# Constant_data[0,0].assign(10) - Throw an Error ( 'tensorflow.python.framework.ops.EagerTensor' object has no attribute 'assign' )\n",
        "\n"
      ],
      "metadata": {
        "id": "yby_zLUcOdj3",
        "colab": {
          "base_uri": "https://localhost:8080/"
        },
        "outputId": "66ef3567-8975-4263-ea9c-e7c5f1eb367e"
      },
      "execution_count": 30,
      "outputs": [
        {
          "output_type": "stream",
          "name": "stdout",
          "text": [
            "tf.Tensor(\n",
            "[[1 2 3]\n",
            " [1 2 3]\n",
            " [1 2 3]], shape=(3, 3), dtype=int32)\n",
            "<tf.Variable 'Variable:0' shape=(3, 3) dtype=float16, numpy=\n",
            "array([[1., 2., 3.],\n",
            "       [1., 2., 3.],\n",
            "       [1., 2., 3.]], dtype=float16)>\n"
          ]
        },
        {
          "output_type": "execute_result",
          "data": {
            "text/plain": [
              "<tf.Variable 'Variable:0' shape=(3, 3) dtype=float16, numpy=\n",
              "array([[ 1.,  2.,  3.],\n",
              "       [ 1.,  2.,  3.],\n",
              "       [ 1., 10.,  3.]], dtype=float16)>"
            ]
          },
          "metadata": {},
          "execution_count": 30
        }
      ]
    },
    {
      "cell_type": "markdown",
      "source": [
        "### Getting Information from Tensor\n",
        "\n",
        " * **Shape:** The length (number of elements) of each of the dimensions of a\n",
        "tensor.\n",
        "* **Rank:** The number of tensor dimensions. A scalar has rank 0, a vector has rank 1, a matrix is rank 2, a tensor has rank n.\n",
        "* **Axis or Dimension:** A particular dimension of a tensor.\n",
        "* **Size:** The total number of items in the tensor."
      ],
      "metadata": {
        "id": "LH_AsqXw-Qfj"
      }
    },
    {
      "cell_type": "code",
      "source": [
        "# Creating a Rank 4 Tensor\n",
        "\n",
        "Rank_4_Tensor = tf.zeros([2,3,4,5])\n",
        "Rank_4_Tensoe"
      ],
      "metadata": {
        "colab": {
          "base_uri": "https://localhost:8080/"
        },
        "id": "jtqRnC8__TtE",
        "outputId": "c35c70a4-cd9c-46fc-c3de-f088137884e4"
      },
      "execution_count": 31,
      "outputs": [
        {
          "output_type": "execute_result",
          "data": {
            "text/plain": [
              "<tf.Tensor: shape=(1, 2, 3, 4, 5), dtype=float32, numpy=\n",
              "array([[[[[0., 0., 0., 0., 0.],\n",
              "          [0., 0., 0., 0., 0.],\n",
              "          [0., 0., 0., 0., 0.],\n",
              "          [0., 0., 0., 0., 0.]],\n",
              "\n",
              "         [[0., 0., 0., 0., 0.],\n",
              "          [0., 0., 0., 0., 0.],\n",
              "          [0., 0., 0., 0., 0.],\n",
              "          [0., 0., 0., 0., 0.]],\n",
              "\n",
              "         [[0., 0., 0., 0., 0.],\n",
              "          [0., 0., 0., 0., 0.],\n",
              "          [0., 0., 0., 0., 0.],\n",
              "          [0., 0., 0., 0., 0.]]],\n",
              "\n",
              "\n",
              "        [[[0., 0., 0., 0., 0.],\n",
              "          [0., 0., 0., 0., 0.],\n",
              "          [0., 0., 0., 0., 0.],\n",
              "          [0., 0., 0., 0., 0.]],\n",
              "\n",
              "         [[0., 0., 0., 0., 0.],\n",
              "          [0., 0., 0., 0., 0.],\n",
              "          [0., 0., 0., 0., 0.],\n",
              "          [0., 0., 0., 0., 0.]],\n",
              "\n",
              "         [[0., 0., 0., 0., 0.],\n",
              "          [0., 0., 0., 0., 0.],\n",
              "          [0., 0., 0., 0., 0.],\n",
              "          [0., 0., 0., 0., 0.]]]]], dtype=float32)>"
            ]
          },
          "metadata": {},
          "execution_count": 31
        }
      ]
    },
    {
      "cell_type": "code",
      "source": [
        "# See details\n",
        "\n",
        "print(\"Datatypre of all Tensors: \",tf.dtypes.as_dtype(Rank_4_Tensor.dtype))\n",
        "print(\"Shape of all Tensors: \",Rank_4_Tensor.shape)\n",
        "print(\"Rank of all Tensors: \",Rank_4_Tensor.ndim)\n",
        "print(\"Elements along axis 0 of Tensors: \",Rank_4_Tensor.shape[0])\n",
        "print(\"Elements along last axis of Tensors: \",Rank_4_Tensor.shape[-1])\n",
        "print(\"Total elements in Tensors: \",tf.size(Rank_4_Tensor).numpy())"
      ],
      "metadata": {
        "colab": {
          "base_uri": "https://localhost:8080/"
        },
        "id": "34JaG4mKAyWc",
        "outputId": "69099c8a-e63c-45f7-ca3a-0bbcfae156a3"
      },
      "execution_count": 32,
      "outputs": [
        {
          "output_type": "stream",
          "name": "stdout",
          "text": [
            "Datatypre of all Tensors:  <dtype: 'float32'>\n",
            "Shape of all Tensors:  (2, 3, 4, 5)\n",
            "Rank of all Tensors:  4\n",
            "Elements along axis 0 of Tensors:  2\n",
            "Elements along last axis of Tensors:  5\n",
            "Total elements in Tensors:  120\n"
          ]
        }
      ]
    },
    {
      "cell_type": "markdown",
      "source": [
        "### Indexing & Expanding Tensors\n",
        "\n",
        "We can also index tensors just like python list"
      ],
      "metadata": {
        "id": "IWh_II8tCw59"
      }
    },
    {
      "cell_type": "code",
      "source": [
        "# Get the first 2 items of each dimension\n",
        "Rank_4_Tensor[:2, :2, :2, :2]"
      ],
      "metadata": {
        "id": "E7IQth5FDGi8",
        "colab": {
          "base_uri": "https://localhost:8080/"
        },
        "outputId": "842253ad-ecbf-4223-ed96-3b6faa343ffa"
      },
      "execution_count": 33,
      "outputs": [
        {
          "output_type": "execute_result",
          "data": {
            "text/plain": [
              "<tf.Tensor: shape=(2, 2, 2, 2), dtype=float32, numpy=\n",
              "array([[[[0., 0.],\n",
              "         [0., 0.]],\n",
              "\n",
              "        [[0., 0.],\n",
              "         [0., 0.]]],\n",
              "\n",
              "\n",
              "       [[[0., 0.],\n",
              "         [0., 0.]],\n",
              "\n",
              "        [[0., 0.],\n",
              "         [0., 0.]]]], dtype=float32)>"
            ]
          },
          "metadata": {},
          "execution_count": 33
        }
      ]
    },
    {
      "cell_type": "code",
      "source": [
        "# Get the dimension from each index except for the final one\n",
        "Rank_4_Tensor[:1, :1, :1, :]"
      ],
      "metadata": {
        "colab": {
          "base_uri": "https://localhost:8080/"
        },
        "id": "c20FaG4mVebK",
        "outputId": "e8ed279f-f866-47de-c118-52aa618ad0a5"
      },
      "execution_count": 34,
      "outputs": [
        {
          "output_type": "execute_result",
          "data": {
            "text/plain": [
              "<tf.Tensor: shape=(1, 1, 1, 5), dtype=float32, numpy=array([[[[0., 0., 0., 0., 0.]]]], dtype=float32)>"
            ]
          },
          "metadata": {},
          "execution_count": 34
        }
      ]
    }
  ]
}