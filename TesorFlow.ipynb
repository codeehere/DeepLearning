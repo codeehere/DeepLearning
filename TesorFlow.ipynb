{
  "nbformat": 4,
  "nbformat_minor": 0,
  "metadata": {
    "colab": {
      "provenance": [],
      "authorship_tag": "ABX9TyMecyVG6DQNHIN/pQpK4WIM",
      "include_colab_link": true
    },
    "kernelspec": {
      "name": "python3",
      "display_name": "Python 3"
    },
    "language_info": {
      "name": "python"
    }
  },
  "cells": [
    {
      "cell_type": "markdown",
      "metadata": {
        "id": "view-in-github",
        "colab_type": "text"
      },
      "source": [
        "<a href=\"https://colab.research.google.com/github/codeehere/DeepLearning/blob/main/TesorFlow.ipynb\" target=\"_parent\"><img src=\"https://colab.research.google.com/assets/colab-badge.svg\" alt=\"Open In Colab\"/></a>"
      ]
    },
    {
      "cell_type": "markdown",
      "source": [
        "# DeepLearning with TensorFlow"
      ],
      "metadata": {
        "id": "E5ZjIc_6IZ6m"
      }
    },
    {
      "cell_type": "markdown",
      "source": [
        "**Tensor:** It is just a general name for data stored in multiple dimensions\n",
        "\n"
      ],
      "metadata": {
        "id": "goV-_9drKFRT"
      }
    },
    {
      "cell_type": "markdown",
      "source": [
        "**Neuron:** Is the smallest unit of Neural Network that obay a basic equation **\" Activation( w1x1 + w2x2 + w3x3 - b )  \"**"
      ],
      "metadata": {
        "id": "slkb8EqxKv3a"
      }
    },
    {
      "cell_type": "code",
      "source": [
        "import tensorflow as tf\n",
        "import torch as th\n",
        "\n",
        "Dim1_const_data = tf.constant([1,2,3,4])\n",
        "print(Dim1_const_data.ndim)\n",
        "\n",
        "\n",
        "Dim2_const_data = tf.constant([\n",
        "    [1,2,3],\n",
        "    [3,2,1],\n",
        "    [4,5,6]\n",
        "])\n",
        "print(Dim2_const_data.ndim)\n",
        "\n",
        "\n",
        "Dim3_const_data = tf.constant([\n",
        "    [[1,2,3]],\n",
        "     [[3,2,1]],\n",
        "      [[4,5,6]]\n",
        "])\n",
        "print(Dim3_const_data.ndim)"
      ],
      "metadata": {
        "colab": {
          "base_uri": "https://localhost:8080/"
        },
        "id": "r08IEO8MI9u8",
        "outputId": "b843d9e2-e372-4a69-a20a-83f31c90fcd3"
      },
      "execution_count": null,
      "outputs": [
        {
          "output_type": "stream",
          "name": "stdout",
          "text": [
            "1\n",
            "2\n",
            "3\n"
          ]
        }
      ]
    },
    {
      "cell_type": "code",
      "source": [
        "# TensorFlow veriable\n",
        "\n",
        "Dim1_var_data = tf.Variable([1,2,3,4])\n",
        "Dim1_var_data.shape\n",
        "\n",
        "# Assign at TensorFlow\n",
        "\n",
        "Constant_data = tf.constant([\n",
        "    [1,2,3],\n",
        "    [1,2,3],\n",
        "    [1,2,3]\n",
        "])\n",
        "Variable_data = tf.Variable([\n",
        "    [1,2,3],\n",
        "    [1,2,3],\n",
        "    [1,2,3]\n",
        "],dtype=tf.float16)\n",
        "\n",
        "print(Constant_data)\n",
        "print(Variable_data)\n",
        "\n",
        "# Assign a value in a Variable Tensor\n",
        "Variable_data[2,1].assign(10)\n",
        "Variable_data\n",
        "\n",
        "\n",
        "# Assign a value forcefully at a constant Tensor is not possibel\n",
        "# Constant_data[0,0].assign(10) - Throw an Error ( 'tensorflow.python.framework.ops.EagerTensor' object has no attribute 'assign' )\n",
        "\n"
      ],
      "metadata": {
        "id": "yby_zLUcOdj3",
        "colab": {
          "base_uri": "https://localhost:8080/"
        },
        "outputId": "33a7f905-1b59-4e5b-cc3c-fe1c6eab651b"
      },
      "execution_count": null,
      "outputs": [
        {
          "output_type": "stream",
          "name": "stdout",
          "text": [
            "tf.Tensor(\n",
            "[[1 2 3]\n",
            " [1 2 3]\n",
            " [1 2 3]], shape=(3, 3), dtype=int32)\n",
            "<tf.Variable 'Variable:0' shape=(3, 3) dtype=float16, numpy=\n",
            "array([[1., 2., 3.],\n",
            "       [1., 2., 3.],\n",
            "       [1., 2., 3.]], dtype=float16)>\n"
          ]
        },
        {
          "output_type": "execute_result",
          "data": {
            "text/plain": [
              "<tf.Variable 'Variable:0' shape=(3, 3) dtype=float16, numpy=\n",
              "array([[ 1.,  2.,  3.],\n",
              "       [ 1.,  2.,  3.],\n",
              "       [ 1., 10.,  3.]], dtype=float16)>"
            ]
          },
          "metadata": {},
          "execution_count": 14
        }
      ]
    },
    {
      "cell_type": "markdown",
      "source": [
        "### Getting Information from Tensor\n",
        "\n",
        " * **Shape:** The length (number of elements) of each of the dimensions of a\n",
        "tensor.\n",
        "* **Rank:** The number of tensor dimensions. A scalar has rank 0, a vector has rank 1, a matrix is rank 2, a tensor has rank n.\n",
        "* **Axis or Dimension:** A particular dimension of a tensor.\n",
        "* **Size:** The total number of items in the tensor."
      ],
      "metadata": {
        "id": "LH_AsqXw-Qfj"
      }
    },
    {
      "cell_type": "code",
      "source": [
        "# Creating a Rank 4 Tensor\n",
        "\n",
        "Rank_4_Tensoe = tf.zeros([2,3,4,5])\n",
        "Rank_4_Tensoe"
      ],
      "metadata": {
        "colab": {
          "base_uri": "https://localhost:8080/"
        },
        "id": "jtqRnC8__TtE",
        "outputId": "63d7f5a6-d937-47e4-d984-072bdebe6da6"
      },
      "execution_count": null,
      "outputs": [
        {
          "output_type": "execute_result",
          "data": {
            "text/plain": [
              "<tf.Tensor: shape=(1, 2, 3, 4, 5), dtype=float32, numpy=\n",
              "array([[[[[0., 0., 0., 0., 0.],\n",
              "          [0., 0., 0., 0., 0.],\n",
              "          [0., 0., 0., 0., 0.],\n",
              "          [0., 0., 0., 0., 0.]],\n",
              "\n",
              "         [[0., 0., 0., 0., 0.],\n",
              "          [0., 0., 0., 0., 0.],\n",
              "          [0., 0., 0., 0., 0.],\n",
              "          [0., 0., 0., 0., 0.]],\n",
              "\n",
              "         [[0., 0., 0., 0., 0.],\n",
              "          [0., 0., 0., 0., 0.],\n",
              "          [0., 0., 0., 0., 0.],\n",
              "          [0., 0., 0., 0., 0.]]],\n",
              "\n",
              "\n",
              "        [[[0., 0., 0., 0., 0.],\n",
              "          [0., 0., 0., 0., 0.],\n",
              "          [0., 0., 0., 0., 0.],\n",
              "          [0., 0., 0., 0., 0.]],\n",
              "\n",
              "         [[0., 0., 0., 0., 0.],\n",
              "          [0., 0., 0., 0., 0.],\n",
              "          [0., 0., 0., 0., 0.],\n",
              "          [0., 0., 0., 0., 0.]],\n",
              "\n",
              "         [[0., 0., 0., 0., 0.],\n",
              "          [0., 0., 0., 0., 0.],\n",
              "          [0., 0., 0., 0., 0.],\n",
              "          [0., 0., 0., 0., 0.]]]]], dtype=float32)>"
            ]
          },
          "metadata": {},
          "execution_count": 17
        }
      ]
    },
    {
      "cell_type": "code",
      "source": [
        "# See details\n",
        "\n",
        "print(\"Datatypre of all Tensors: \",tf.dtypes.as_dtype(Rank_4_Tensoe.dtype))\n",
        "print(\"Shape of all Tensors: \",Rank_4_Tensoe.shape)\n",
        "print(\"Rank of all Tensors: \",Rank_4_Tensoe.ndim)\n",
        "print(\"Elements along axis 0 of Tensors: \",Rank_4_Tensoe.shape[0])\n",
        "print(\"Elements along last axis of Tensors: \",Rank_4_Tensoe.shape[-1])\n",
        "print(\"Total elements in Tensors: \",tf.size(Rank_4_Tensoe).numpy())"
      ],
      "metadata": {
        "colab": {
          "base_uri": "https://localhost:8080/"
        },
        "id": "34JaG4mKAyWc",
        "outputId": "e52d3a5a-db45-4347-a7a1-602b269741cd"
      },
      "execution_count": null,
      "outputs": [
        {
          "output_type": "stream",
          "name": "stdout",
          "text": [
            "Datatypre of all Tensors:  <dtype: 'float32'>\n",
            "Shape of all Tensors:  (1, 2, 3, 4, 5)\n",
            "Rank of all Tensors:  5\n",
            "Elements along axis 0 of Tensors:  1\n",
            "Elements along last axis of Tensors:  5\n",
            "Total elements in Tensors:  120\n"
          ]
        }
      ]
    },
    {
      "cell_type": "markdown",
      "source": [
        "### Indexing & Expanding Tensors"
      ],
      "metadata": {
        "id": "IWh_II8tCw59"
      }
    },
    {
      "cell_type": "code",
      "source": [],
      "metadata": {
        "id": "E7IQth5FDGi8"
      },
      "execution_count": null,
      "outputs": []
    }
  ]
}